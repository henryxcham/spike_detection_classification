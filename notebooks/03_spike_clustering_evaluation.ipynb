{
 "cells": [
  {
   "cell_type": "markdown",
   "id": "d5ed3cd0",
   "metadata": {},
   "source": [
    "# 3. spike clustering evaluation"
   ]
  },
  {
   "cell_type": "code",
   "execution_count": null,
   "id": "2637c99c",
   "metadata": {
    "vscode": {
     "languageId": "plaintext"
    }
   },
   "outputs": [],
   "source": [
    "import torch\n",
    "import numpy as np\n",
    "from sklearn.decomposition import PCA\n",
    "from src.utils import load_and_concatenate_npy\n",
    "from src.models import ShallowAutoencoder\n",
    "from src.cluster import plot_reconstruction, apply_and_plot_dbscan"
   ]
  },
  {
   "cell_type": "code",
   "execution_count": null,
   "id": "a1b97d13",
   "metadata": {
    "vscode": {
     "languageId": "plaintext"
    }
   },
   "outputs": [],
   "source": [
    "# 1. Load Data\n",
    "spikes_file_paths = [\n",
    "    '../data/spikes/channel_spikes_9.npy',\n",
    "    '../data/spikes/channel_spikes_16.npy',\n",
    "    '../data/spikes/channel_spikes_33.npy',\n",
    "    '../data/spikes/channel_spikes_11.npy',\n",
    "    '../data/spikes/channel_spikes_40.npy'\n",
    "]\n",
    "all_spikes_np = load_and_concatenate_npy(spikes_file_paths)\n",
    "all_spikes_tensor = torch.from_numpy(all_spikes_np).float()"
   ]
  },
  {
   "cell_type": "code",
   "execution_count": null,
   "id": "e57d39b9",
   "metadata": {
    "vscode": {
     "languageId": "plaintext"
    }
   },
   "outputs": [],
   "source": [
    "# 2. Load the Trained Autoencoder\n",
    "autoencoder_model = ShallowAutoencoder()\n",
    "autoencoder_model.load_state_dict(torch.load('best_autoencoder_model.pth'))\n",
    "autoencoder_model.eval()"
   ]
  },
  {
   "cell_type": "code",
   "execution_count": null,
   "id": "0268beb2",
   "metadata": {
    "vscode": {
     "languageId": "plaintext"
    }
   },
   "outputs": [],
   "source": [
    "# Plot reconstruction with the loaded model\n",
    "plot_reconstruction(autoencoder_model, all_spikes_tensor)"
   ]
  },
  {
   "cell_type": "code",
   "execution_count": null,
   "id": "6817805b",
   "metadata": {
    "vscode": {
     "languageId": "plaintext"
    }
   },
   "outputs": [],
   "source": [
    "# Get embeddings and plot clusters from Autoencoder\n",
    "with torch.no_grad():\n",
    "    autoencoder_embeddings = autoencoder_model.encoder(all_spikes_tensor).cpu().numpy()\n",
    "\n",
    "apply_and_plot_dbscan(\n",
    "    data_embeddings=autoencoder_embeddings,\n",
    "    title='3D Autoencoder Embeddings with DBSCAN Clusters',\n",
    "    x_label='Embedding Dimension 1',\n",
    "    y_label='Embedding Dimension 2',\n",
    "    z_label='Embedding Dimension 3',\n",
    "    eps=250, \n",
    "    min_samples=10\n",
    ")"
   ]
  },
  {
   "cell_type": "code",
   "execution_count": null,
   "id": "57942123",
   "metadata": {
    "vscode": {
     "languageId": "plaintext"
    }
   },
   "outputs": [],
   "source": [
    "# 3. Apply PCA and Plot Clusters\n",
    "pca = PCA(n_components=3)\n",
    "pca_embeddings = pca.fit_transform(all_spikes_np)\n",
    "\n",
    "apply_and_plot_dbscan(\n",
    "    data_embeddings=pca_embeddings,\n",
    "    title='3D PCA Components with DBSCAN Clusters',\n",
    "    x_label='Principal Component 1',\n",
    "    y_label='Principal Component 2',\n",
    "    z_label='Principal Component 3',\n",
    "    eps=250, \n",
    "    min_samples=10\n",
    ")"
   ]
  },
  {
   "cell_type": "code",
   "execution_count": null,
   "id": "036703da",
   "metadata": {
    "vscode": {
     "languageId": "plaintext"
    }
   },
   "outputs": [],
   "source": []
  }
 ],
 "metadata": {
  "language_info": {
   "name": "python"
  }
 },
 "nbformat": 4,
 "nbformat_minor": 5
}
